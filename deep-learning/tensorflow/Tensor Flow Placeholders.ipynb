{
 "cells": [
  {
   "cell_type": "markdown",
   "metadata": {},
   "source": [
    "# Placeholders\n",
    "\n",
    "In TensorFlow Basics tutorial we learnt how tensor flow creates and computational graph in background &  \n",
    "how we can use tf.Session() to run a computational graph.\n",
    "\n",
    "In this tutorial we will learn how to feed inputs to the computational graph."
   ]
  },
  {
   "cell_type": "markdown",
   "metadata": {},
   "source": [
    "Feeding input to computational graph is 2 step process-:  \n",
    "1. We will create placeholders during the graph creation time.\n",
    "2. We will feed data(tensors) to placeholder during graph run time.  \n",
    "\n",
    "Lets see how to do this."
   ]
  },
  {
   "cell_type": "code",
   "execution_count": 15,
   "metadata": {
    "collapsed": true
   },
   "outputs": [],
   "source": [
    "import tensorflow as tf"
   ]
  },
  {
   "cell_type": "code",
   "execution_count": 16,
   "metadata": {},
   "outputs": [],
   "source": [
    "tf.reset_default_graph()\n",
    "\n",
    "# Creating placehoders\n",
    "x = tf.placeholder(tf.int32, name='x')\n",
    "y = tf.placeholder(tf.int32, shape=[2], name='y')\n",
    "\n",
    "z = tf.multiply(x, y)"
   ]
  },
  {
   "cell_type": "markdown",
   "metadata": {},
   "source": [
    "In the above code we created two placeholders __x__ and __y__.  \n",
    "While creating the placeholder we also said both __x__ and __y__ can hold tensor of type Integer.  \n",
    "__x__ can hold a tensor of any shape since we have not specified the shape for placeholder.  \n",
    "__y__ can hold a __1-d tensor__ which is basically a __vector__ since we specified a shape as vector of 2 elements."
   ]
  },
  {
   "cell_type": "code",
   "execution_count": 18,
   "metadata": {},
   "outputs": [
    {
     "name": "stdout",
     "output_type": "stream",
     "text": [
      "[12 15]\n"
     ]
    }
   ],
   "source": [
    "# Lets see how to feed the placeholders\n",
    "\n",
    "#Create a feed dictionary which we will pass to feed_dict argument of sess.run method\n",
    "feed_dict = {x: 3, y: [4, 5]}\n",
    "\n",
    "with tf.Session() as sess:\n",
    "    writer = tf.summary.FileWriter('./graphs', sess.graph)\n",
    "    print(sess.run(z, feed_dict=feed_dict))\n"
   ]
  },
  {
   "cell_type": "markdown",
   "metadata": {},
   "source": [
    "As you can see we created a dictionary with key of the placeholders and value with the type and shape as of what was declared while creating the placeholders.  \n",
    "\n",
    "1. x is provided with 0-d tensor of value 3.\n",
    "2. y is provided with 1-d tensor of value [4, 5]"
   ]
  },
  {
   "cell_type": "markdown",
   "metadata": {},
   "source": [
    "The computational graph generated from above code is\n",
    "![Placeholder Multiply](./img/placeholder_mul.png)"
   ]
  },
  {
   "cell_type": "code",
   "execution_count": null,
   "metadata": {
    "collapsed": true
   },
   "outputs": [],
   "source": []
  }
 ],
 "metadata": {
  "kernelspec": {
   "display_name": "Python 3",
   "language": "python",
   "name": "python3"
  },
  "language_info": {
   "codemirror_mode": {
    "name": "ipython",
    "version": 3
   },
   "file_extension": ".py",
   "mimetype": "text/x-python",
   "name": "python",
   "nbconvert_exporter": "python",
   "pygments_lexer": "ipython3",
   "version": "3.6.2"
  }
 },
 "nbformat": 4,
 "nbformat_minor": 2
}
