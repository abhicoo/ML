{
 "cells": [
  {
   "cell_type": "markdown",
   "metadata": {},
   "source": [
    "# Variables\n",
    "\n",
    "In previous tutorials we learnt how to input values to the computational graphs using placeholders and get outputs.  \n",
    "\n",
    "But what if we want to get different output for same the input.  \n",
    "That is how can we create a computational graph that outputs different value for same input.  \n",
    "This is where variables come in. Considers variables as parameters of computational graph.  \n",
    "The value of these parameters can changed hence we can get different output from same input from a computational graph.  \n",
    "\n",
    "When we do Machine Learning the parameters(variables of computational graphs) are the things which we train with help of input datasets.  \n",
    "\n",
    "Using variables in tensorflow is 2 step process-:  \n",
    "\n",
    "1. First decalare the variable.\n",
    "2. Initliaze all the variables of computational graph."
   ]
  },
  {
   "cell_type": "code",
   "execution_count": 53,
   "metadata": {
    "collapsed": true
   },
   "outputs": [],
   "source": [
    "import tensorflow as tf"
   ]
  },
  {
   "cell_type": "code",
   "execution_count": 54,
   "metadata": {
    "collapsed": true
   },
   "outputs": [],
   "source": [
    "tf.reset_default_graph()\n",
    "\n",
    "# Declaring variables\n",
    "x = tf.Variable(35, name='x')\n",
    "y = tf.Variable(40, name='y')\n",
    "\n",
    "z = tf.add(x, y)"
   ]
  },
  {
   "cell_type": "markdown",
   "metadata": {},
   "source": [
    "The above code will declare two variables in x and y."
   ]
  },
  {
   "cell_type": "code",
   "execution_count": 55,
   "metadata": {
    "collapsed": true
   },
   "outputs": [],
   "source": [
    "#Get hold of object which will initialize variables\n",
    "init = tf.global_variables_initializer()"
   ]
  },
  {
   "cell_type": "markdown",
   "metadata": {},
   "source": [
    "The above code will create a sub-graph with only one 1 node named init.  \n",
    "The init node will do the Operation of initializing variables x and y."
   ]
  },
  {
   "cell_type": "code",
   "execution_count": 56,
   "metadata": {},
   "outputs": [
    {
     "name": "stdout",
     "output_type": "stream",
     "text": [
      "75\n"
     ]
    }
   ],
   "source": [
    "with tf.Session() as sess:\n",
    "    writer = tf.summary.FileWriter('./variables_graphs', sess.graph)\n",
    "    sess.run(init)\n",
    "    print(sess.run(z))"
   ]
  },
  {
   "cell_type": "markdown",
   "metadata": {},
   "source": [
    "![Variables_Graphs](./img/variables_graph.png)"
   ]
  },
  {
   "cell_type": "markdown",
   "metadata": {},
   "source": [
    "As we can see there was a new sub graph created(top right corner) with only one node named init.  \n",
    "The init node will do the Operation of initializing variables x and y.  \n",
    "\n",
    "The rest of graph is same. Except that the x and y now goes through init also."
   ]
  },
  {
   "cell_type": "code",
   "execution_count": 57,
   "metadata": {},
   "outputs": [],
   "source": [
    "# Assign new value to x\n",
    "new_assign_x = tf.assign(x, 100, name='x_assign')"
   ]
  },
  {
   "cell_type": "markdown",
   "metadata": {},
   "source": [
    "The tf.assign will create a new node in the graph which does the Operation of reassigning the value of x to 100."
   ]
  },
  {
   "cell_type": "code",
   "execution_count": 58,
   "metadata": {},
   "outputs": [
    {
     "name": "stdout",
     "output_type": "stream",
     "text": [
      "140\n"
     ]
    }
   ],
   "source": [
    "with tf.Session() as sess:\n",
    "    writer = tf.summary.FileWriter('./variables_reassign_graphs', sess.graph)\n",
    "    # Run the init object to initialize variables\n",
    "    sess.run(init)\n",
    "    sess.run(new_assign_x)\n",
    "    print(sess.run(z))"
   ]
  },
  {
   "cell_type": "markdown",
   "metadata": {},
   "source": [
    "![Variables_Reassign_Graphs](./img/variables_reassign_graph.png)"
   ]
  },
  {
   "cell_type": "markdown",
   "metadata": {},
   "source": [
    "As we can see new node named x_assign was added in the graph.  \n",
    "The Operation of this node is set the value of x to new value of 100."
   ]
  },
  {
   "cell_type": "code",
   "execution_count": null,
   "metadata": {
    "collapsed": true
   },
   "outputs": [],
   "source": []
  }
 ],
 "metadata": {
  "kernelspec": {
   "display_name": "Python 3",
   "language": "python",
   "name": "python3"
  },
  "language_info": {
   "codemirror_mode": {
    "name": "ipython",
    "version": 3
   },
   "file_extension": ".py",
   "mimetype": "text/x-python",
   "name": "python",
   "nbconvert_exporter": "python",
   "pygments_lexer": "ipython3",
   "version": "3.6.2"
  }
 },
 "nbformat": 4,
 "nbformat_minor": 2
}
