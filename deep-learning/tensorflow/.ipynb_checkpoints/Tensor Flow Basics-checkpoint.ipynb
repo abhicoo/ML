{
 "cells": [
  {
   "cell_type": "markdown",
   "metadata": {},
   "source": [
    "# What is Tensorflow?\n",
    "\n",
    "1. Its a open source library for numerical computations. \n",
    "2. Developed by Google Brain Team for Machine Learning and Deep Neural Networks Research."
   ]
  },
  {
   "cell_type": "markdown",
   "metadata": {},
   "source": [
    "### Lets dive in.\n",
    "\n",
    "Tensorflow has both Low Level APIs and High Level APIs.  \n",
    "High Level APIs are created on top of Low Level APIs.  \n",
    "Its better to work with Low Level APIs first and move to High Level APIs so that we know how things work behind the scenes.  "
   ]
  },
  {
   "cell_type": "markdown",
   "metadata": {},
   "source": [
    "### Installing Tensorflow\n",
    "\n",
    "You can follow [Installing Tensorflow](https://www.tensorflow.org/install/) to install tensorflow.  \n",
    "  \n",
    "To start using tensorflow is just one line of `import statement`  \n",
    "              ```import tensorflow as tf```"
   ]
  },
  {
   "cell_type": "code",
   "execution_count": 11,
   "metadata": {
    "collapsed": true
   },
   "outputs": [],
   "source": [
    "import tensorflow as tf"
   ]
  },
  {
   "cell_type": "markdown",
   "metadata": {},
   "source": [
    "Lets add two numbers with tensorflow.  \n",
    "We will use [Tensorboard](https://www.youtube.com/watch?v=eBbEDRsCmv4) to visualize whats happening in background."
   ]
  },
  {
   "cell_type": "code",
   "execution_count": 12,
   "metadata": {},
   "outputs": [
    {
     "name": "stdout",
     "output_type": "stream",
     "text": [
      "5\n"
     ]
    }
   ],
   "source": [
    "x = tf.constant(2)\n",
    "y = tf.constant(3)\n",
    "add = tf.add(x, y)\n",
    "\n",
    "with tf.Session() as sess:\n",
    "    #Tensorboard code to visualize whats happening in background.\n",
    "    writer = tf.summary.FileWriter('./graphs', sess.graph)\n",
    "    print(sess.run(add))\n",
    "\n",
    "writer.close()\n",
    "    "
   ]
  },
  {
   "cell_type": "markdown",
   "metadata": {},
   "source": [
    "Running the above code generated the following graph-:  \n",
    "\n",
    "![Add Two Numbers](./img/add_two_numbers.png)\n",
    "\n",
    "As we can see a computational graph was generated with 3 nodes in it. The 3 nodes are  \n",
    "1. Add was generated because of add = tf.add(x, y)\n",
    "2. Const_1 was generated becauses of x = tf.constant(2)\n",
    "3. Const_2 was generated because of y = tf.constant(3)\n",
    "  \n",
    "The data that flows between the nodes are called tensors hence the name TensorFlow.  "
   ]
  },
  {
   "cell_type": "markdown",
   "metadata": {},
   "source": [
    "# What are Tensors.\n",
    "\n",
    "Tensors are basic datatypes in tensorflow. Each nodes do some operations and these operations are done on tensors.  \n",
    "Tensor can be consisdered as n-dimensional array.  \n",
    "\n",
    "0-d Tensor: scalar(number)    \n",
    "1-d Tensor: vector  \n",
    "2-d Tensor: matrix  \n",
    "and so on.  \n",
    "\n"
   ]
  },
  {
   "cell_type": "markdown",
   "metadata": {},
   "source": [
    "In above graph.  \n",
    "The Const_1 and Const_2 Nodes takes nothing as input, but outputs the values stored inside them as tensors. In this case the values are 0-d tensor 2 and 3.  \n",
    "The Add Node here takes two 0-d tensor( 2 and 3) as input and produces a 0-d tensor(5) as output."
   ]
  },
  {
   "cell_type": "markdown",
   "metadata": {},
   "source": [
    "So there are 2 steps in writing a full TensorFlow program  \n",
    "\n",
    "1. Creating a computational graph.\n",
    "2. Running the computational graph in a tensor flow session.  \n",
    "\n",
    "Lets see the steps one by one."
   ]
  },
  {
   "cell_type": "code",
   "execution_count": 13,
   "metadata": {
    "collapsed": true
   },
   "outputs": [],
   "source": [
    "# Code to reset any previous graph created\n",
    "tf.reset_default_graph()\n",
    "\n",
    "# Creating a computational graph\n",
    "\n",
    "# Creates a node of type constant\n",
    "a = tf.constant(10)\n",
    "# Creates a node of type constant\n",
    "b = tf.constant(20)\n",
    "# Creates a nodes of type multiplication\n",
    "c = tf.multiply(a, b)"
   ]
  },
  {
   "cell_type": "markdown",
   "metadata": {},
   "source": [
    "![Mul Two Numbers](./img/mul_two_numbers.png)"
   ]
  },
  {
   "cell_type": "code",
   "execution_count": 14,
   "metadata": {},
   "outputs": [
    {
     "name": "stdout",
     "output_type": "stream",
     "text": [
      "200\n"
     ]
    }
   ],
   "source": [
    "# Running the computational graph\n",
    "\n",
    "with tf.Session() as sess:\n",
    "    writer = tf.summary.FileWriter('./graphs', sess.graph)\n",
    "    result = sess.run(c)\n",
    "    print(result)"
   ]
  },
  {
   "cell_type": "markdown",
   "metadata": {},
   "source": [
    "## How to set names of nodes properly\n",
    "\n",
    "When we created the the nodes a and b we didnt set any names so tensorflow gave them some name.  \n",
    "But we can set names of nodes properly with a name argument while created a node.  \n",
    "Lets see how we can do this"
   ]
  },
  {
   "cell_type": "code",
   "execution_count": 15,
   "metadata": {},
   "outputs": [
    {
     "name": "stdout",
     "output_type": "stream",
     "text": [
      "200\n"
     ]
    }
   ],
   "source": [
    "tf.reset_default_graph()\n",
    "\n",
    "# Creating a computational graph\n",
    "\n",
    "# Creates a node of type constant\n",
    "a = tf.constant(10, name='a')\n",
    "# Creates a node of type constant\n",
    "b = tf.constant(20, name='b')\n",
    "# Creates a nodes of type multiplication\n",
    "c = tf.multiply(a, b)\n",
    "\n",
    "# Running the computational graph\n",
    "\n",
    "with tf.Session() as sess:\n",
    "    writer = tf.summary.FileWriter('./graphs', sess.graph)\n",
    "    result = sess.run(c)\n",
    "    print(result)"
   ]
  },
  {
   "cell_type": "markdown",
   "metadata": {},
   "source": [
    "The computational graph generated from above code is\n",
    "![Nodes with names](./img/nodes_with_names.png)"
   ]
  },
  {
   "cell_type": "markdown",
   "metadata": {},
   "source": [
    "#### __In the next tutorial we will see how we can pass inputs to our computational graphs.__"
   ]
  },
  {
   "cell_type": "code",
   "execution_count": null,
   "metadata": {
    "collapsed": true
   },
   "outputs": [],
   "source": []
  }
 ],
 "metadata": {
  "kernelspec": {
   "display_name": "Python 3",
   "language": "python",
   "name": "python3"
  },
  "language_info": {
   "codemirror_mode": {
    "name": "ipython",
    "version": 3
   },
   "file_extension": ".py",
   "mimetype": "text/x-python",
   "name": "python",
   "nbconvert_exporter": "python",
   "pygments_lexer": "ipython3",
   "version": "3.6.2"
  }
 },
 "nbformat": 4,
 "nbformat_minor": 2
}
